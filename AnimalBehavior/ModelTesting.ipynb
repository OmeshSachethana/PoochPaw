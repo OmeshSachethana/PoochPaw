{
 "cells": [
  {
   "cell_type": "markdown",
   "metadata": {},
   "source": [
    "# Test Collar Model Prediction Output"
   ]
  },
  {
   "cell_type": "code",
   "execution_count": 10,
   "metadata": {},
   "outputs": [],
   "source": [
    "import numpy as np\n",
    "import tensorflow as tf"
   ]
  },
  {
   "cell_type": "code",
   "execution_count": 12,
   "metadata": {},
   "outputs": [],
   "source": [
    "# Load the TensorFlow Lite model\n",
    "interpreter = tf.lite.Interpreter(model_path='model.tflite')\n",
    "interpreter.allocate_tensors()\n",
    "\n",
    "# Get the input and output details\n",
    "input_details = interpreter.get_input_details()\n",
    "output_details = interpreter.get_output_details()\n"
   ]
  },
  {
   "cell_type": "code",
   "execution_count": 18,
   "metadata": {},
   "outputs": [
    {
     "name": "stdout",
     "output_type": "stream",
     "text": [
      "Predicted Activity: Playing\n"
     ]
    }
   ],
   "source": [
    "# Define a function to perform inference\n",
    "def predict_activity(input_data):\n",
    "    # Prepare the input data\n",
    "    input_data = input_data.reshape((1, 6, 1))  # Reshape to match the model's input shape\n",
    "    input_data = input_data.astype(np.float32)  # Convert to FLOAT32\n",
    "\n",
    "    # Set the input tensor\n",
    "    input_tensor_index = input_details[0]['index']\n",
    "    interpreter.set_tensor(input_tensor_index, input_data)\n",
    "\n",
    "    # Run the inference\n",
    "    interpreter.invoke()\n",
    "\n",
    "    # Get the output tensor\n",
    "    output_tensor_index = output_details[0]['index']\n",
    "    output = interpreter.get_tensor(output_tensor_index)\n",
    "\n",
    "    # Find the index of the highest predicted probability\n",
    "    predicted_class_index = np.argmax(output)\n",
    "\n",
    "    # Map the index to the corresponding activity label\n",
    "    activities = ['Walking', 'Shaking', 'Sniffing', 'Eating', 'Sitting', 'Trotting', 'Lying chest', 'Pacing', 'Standing', 'Jumping', 'Playing', 'Standing', 'Panting', 'Drinking', 'Galloping', 'Carrying object', 'Tugging', 'Bowing']\n",
    "    predicted_activity = activities[predicted_class_index]\n",
    "\n",
    "    return predicted_activity\n",
    "\n",
    "# Example input data (replace with original input data feed)\n",
    "# [\"ANeck_x\",\"ANeck_y\",\"ANeck_z\",\"GNeck_x\",\"GNeck_y\",\"GNeck_z\"]\n",
    "input_data = np.array([0.156, 2.37, 0.3, 1.4, 0.5, 10.6])  # Replace with original input values\n",
    "\n",
    "# Perform inference and get the predicted activity\n",
    "predicted_activity = predict_activity(input_data)\n",
    "\n",
    "# Print the predicted activity\n",
    "print(\"Predicted Activity:\", predicted_activity)\n"
   ]
  }
 ],
 "metadata": {
  "kernelspec": {
   "display_name": "dogcare-dev",
   "language": "python",
   "name": "python3"
  },
  "language_info": {
   "codemirror_mode": {
    "name": "ipython",
    "version": 3
   },
   "file_extension": ".py",
   "mimetype": "text/x-python",
   "name": "python",
   "nbconvert_exporter": "python",
   "pygments_lexer": "ipython3",
   "version": "3.10.13"
  },
  "orig_nbformat": 4
 },
 "nbformat": 4,
 "nbformat_minor": 2
}
