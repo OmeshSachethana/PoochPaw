{
 "cells": [
  {
   "cell_type": "markdown",
   "id": "bf0e9f2e-eeca-4c76-ac88-7532f47a1dfd",
   "metadata": {},
   "source": [
    "# Model Testing With Images"
   ]
  },
  {
   "cell_type": "code",
   "execution_count": 1,
   "id": "e9b860c9-3475-4743-a801-e006cb5fa3ea",
   "metadata": {},
   "outputs": [
    {
     "name": "stderr",
     "output_type": "stream",
     "text": [
      "WARNING:absl:Compiled the loaded model, but the compiled metrics have yet to be built. `model.compile_metrics` will be empty until you train or evaluate the model.\n"
     ]
    },
    {
     "name": "stdout",
     "output_type": "stream",
     "text": [
      "\u001b[1m1/1\u001b[0m \u001b[32m━━━━━━━━━━━━━━━━━━━━\u001b[0m\u001b[37m\u001b[0m \u001b[1m1s\u001b[0m 595ms/step\n",
      "Predicted class: Senior\n",
      "Accuracy: 71\n"
     ]
    }
   ],
   "source": [
    "import cv2\n",
    "import numpy as np\n",
    "import tensorflow as tf\n",
    "\n",
    "# Path to your testing image\n",
    "image_path = r'C:\\Users\\GL63 8RCS\\Desktop\\poochPaw\\DogAge\\PetFinder_All\\PetFinder_All\\Senior\\38710353_2.jpg'\n",
    "\n",
    "# Load the saved model\n",
    "model = tf.keras.models.load_model( r\"C:\\Users\\GL63 8RCS\\Desktop\\poochPaw\\DogAge\\CNN-Dogage_Function04.h5\")\n",
    "\n",
    "# Define the category dictionary based on the classes your model was trained on\n",
    "category_dict = {0: 'Senior', 1: 'Young'}\n",
    "\n",
    "# Load and preprocess the image\n",
    "img = cv2.imread(image_path)\n",
    "h, w = img.shape[0:2]  # Get height and width of the image\n",
    "\n",
    "# Preprocessing (as done for the training images)\n",
    "test_img = cv2.resize(img, (50, 50))\n",
    "test_img = cv2.cvtColor(test_img, cv2.COLOR_BGR2GRAY)\n",
    "test_img = test_img / 255.0\n",
    "test_img = np.expand_dims(test_img, axis=-1)  # Add channel dimension\n",
    "test_img = np.expand_dims(test_img, axis=0)   # Add batch dimension\n",
    "\n",
    "# Make predictions\n",
    "results = model.predict(test_img)\n",
    "label = np.argmax(results, axis=1)[0]  # Get the predicted class label\n",
    "acc = int(np.max(results, axis=1)[0] * 100)  # Get the predicted class accuracy\n",
    "\n",
    "print(\"Predicted class:\", category_dict[label])\n",
    "print(\"Accuracy:\", acc)\n"
   ]
  },
  {
   "cell_type": "code",
   "execution_count": null,
   "id": "5529f9fd-33b0-4191-89c9-7f012226d4b7",
   "metadata": {},
   "outputs": [],
   "source": []
  }
 ],
 "metadata": {
  "kernelspec": {
   "display_name": "Python 3 (ipykernel)",
   "language": "python",
   "name": "python3"
  },
  "language_info": {
   "codemirror_mode": {
    "name": "ipython",
    "version": 3
   },
   "file_extension": ".py",
   "mimetype": "text/x-python",
   "name": "python",
   "nbconvert_exporter": "python",
   "pygments_lexer": "ipython3",
   "version": "3.11.7"
  }
 },
 "nbformat": 4,
 "nbformat_minor": 5
}
